{
 "cells": [
  {
   "cell_type": "code",
   "execution_count": 1,
   "id": "ea054e0e-4212-4c03-96d6-b29ffd8eaf62",
   "metadata": {},
   "outputs": [],
   "source": [
    "# 🔧 Data Handling\n",
    "import pandas as pd\n",
    "import numpy as np\n",
    "\n",
    "# 📅 Date & Time\n",
    "from datetime import datetime\n",
    "\n",
    "import time\n"
   ]
  },
  {
   "cell_type": "code",
   "execution_count": 2,
   "id": "9bcb2894-289c-4d94-88a0-bb2019994726",
   "metadata": {},
   "outputs": [
    {
     "name": "stdout",
     "output_type": "stream",
     "text": [
      "Collecting pycountry\n",
      "  Using cached pycountry-24.6.1-py3-none-any.whl.metadata (12 kB)\n",
      "Using cached pycountry-24.6.1-py3-none-any.whl (6.3 MB)\n",
      "Installing collected packages: pycountry\n",
      "Successfully installed pycountry-24.6.1\n"
     ]
    }
   ],
   "source": [
    "!pip install pycountry"
   ]
  },
  {
   "cell_type": "code",
   "execution_count": 3,
   "id": "c9288a0d-934a-4403-8c2b-3512a80448bc",
   "metadata": {},
   "outputs": [],
   "source": [
    "# ☁️ AWS S3 Interaction\n",
    "import boto3\n",
    "from io import StringIO\n",
    "\n",
    "# 🌍 Country Info (used for dimregion country column)\n",
    "import pycountry\n",
    "\n",
    "# 🧼 Optional: Logging if you want to trace/debug stuff\n",
    "import logging"
   ]
  },
  {
   "cell_type": "code",
   "execution_count": null,
   "id": "bcbe3d41-ae98-45d4-b1e3-72e98f2a27d3",
   "metadata": {},
   "outputs": [],
   "source": [
    "aws_access_key = '<your_aws_access_key>'\n",
    "aws_secret_key = '<your_own_secret>' \n",
    "aws_region = 'us-east-2'\n",
    "s3_bucket_name = 'covidproject-buc'\n",
    "\n",
    "\n",
    "athena_client = boto3.client(\n",
    "                \"athena\",\n",
    "                aws_access_key_id = aws_access_key,\n",
    "                aws_secret_access_key = aws_secret_key,\n",
    "                region_name = aws_region\n",
    ")\n",
    "# ....... CODE TO EXECUTE A SIMPLE QUERY USING ATHENA JUST TO VIEW THE DATA, NOT NECCESSARY"
   ]
  },
  {
   "cell_type": "code",
   "execution_count": 5,
   "id": "85da287d-8d52-4f8e-ab9c-3ec67f29f52b",
   "metadata": {},
   "outputs": [
    {
     "name": "stdout",
     "output_type": "stream",
     "text": [
      "added data for :  hospital_beds\n",
      "added data for :  covid_data\n",
      "added data for :  enigma_jhud\n",
      "dimhospital ready\n",
      "factscovid ready\n",
      "dimregion ready\n",
      "222804\n",
      "country name has been added\n"
     ]
    },
    {
     "name": "stderr",
     "output_type": "stream",
     "text": [
      "/tmp/ipykernel_118/1746393962.py:66: SettingWithCopyWarning: \n",
      "A value is trying to be set on a copy of a slice from a DataFrame.\n",
      "Try using .loc[row_indexer,col_indexer] = value instead\n",
      "\n",
      "See the caveats in the documentation: https://pandas.pydata.org/pandas-docs/stable/user_guide/indexing.html#returning-a-view-versus-a-copy\n",
      "  dimregion['country'] = dimregion['province_state'].apply(get_country_name)\n"
     ]
    }
   ],
   "source": [
    "\n",
    "# Initialize the S3 client\n",
    "s3_client = boto3.client(\n",
    "    's3',\n",
    "    aws_access_key_id=aws_access_key,\n",
    "    aws_secret_access_key=aws_secret_key,\n",
    "    region_name=aws_region\n",
    ")\n",
    "\n",
    "def get_pd_frame_data(file_info):\n",
    "    file_key = s3_client.get_object(Bucket=s3_bucket_name, Key=file_info['file_path'])\n",
    "    csv_data = file_key['Body'].read().decode('utf-8')  # Decode the byte data into string\n",
    "    file_info['data'] = pd.read_csv(StringIO(csv_data)) \n",
    "\n",
    "data_entities = [{'df_name': 'hospital_beds', 'file_path': 'covidproject_tables/hospital_beds/rearc_usa_hospital_beds.csv', 'data':None},\n",
    "                 {'df_name': 'covid_data', 'file_path': 'covidproject_tables/covid-data/covid_testing_data_states_daily.csv', 'data':None},\n",
    "                {'df_name': 'enigma_jhud', 'file_path': 'covidproject_tables/enigma-jhud/enigma_jhud.csv', 'data':None}]\n",
    "\n",
    "for i in range(len(data_entities)):\n",
    "    print(\"added data for : \", data_entities[i]['df_name'])\n",
    "    get_pd_frame_data(data_entities[i])\n",
    "\n",
    "hospital_beds = data_entities[0]['data']\n",
    "covid_data = data_entities[1]['data']\n",
    "enigma_jhud = data_entities[2]['data']\n",
    "\n",
    "        \n",
    "# GET hospital_beds data and store it in a python dataframe\n",
    "# s3_hospitalsData_key = \n",
    "# response_hospitals = s3_client.get_object(Bucket=s3_bucket_name, Key=s3_hospitalsData_key)\n",
    "\n",
    "# # Read the CSV content into a pandas DataFrame\n",
    "# csv_data = response_hospitals['Body'].read().decode('utf-8')  # Decode the byte data into string\n",
    "# hospital_beds = pd.read_csv(StringIO(csv_data))  # Load into DataFrame\n",
    "\n",
    "# Verify the DataFrame\n",
    "\n",
    "# lets create the hospital dimension table \n",
    "dimhospital = hospital_beds[['FIPS', 'HOSPITAL_NAME', 'HOSPITAL_TYPE', 'HQ_ADDRESS', 'HQ_ADDRESS1', 'HQ_CITY', 'HQ_STATE', 'COUNTY_NAME', 'latitude', 'longtitude']]\n",
    "\n",
    "print(\"dimhospital ready\")\n",
    "##############################################################################\n",
    "# for the facts table\n",
    "factscovid_daily = covid_data[['fips', 'date', 'state', 'positive', 'negative', 'pending', 'hospitalized', 'dateModified', 'recovered', 'deathConfirmed', 'hospitalizedDischarged']]\n",
    "factscovid_enigma = enigma_jhud[['fips', 'active', 'recovered', 'confirmed']]\n",
    "factscovid = pd.merge(factscovid_daily, factscovid_enigma, on = 'fips', how = 'inner')\n",
    "\n",
    "print(\"factscovid ready\")\n",
    "\n",
    "\n",
    "\n",
    "#############################################################################\n",
    "#for the region dimension table \n",
    "dimregion = enigma_jhud[['fips', 'province_state', 'country_region', 'latitude', 'longitude']]\n",
    "\n",
    "print(\"dimregion ready\")\n",
    "print(len(dimregion))\n",
    "\n",
    "def get_country_name(state_name):\n",
    "    if pd.isna(state_name):\n",
    "        return None  # Return None or any default value you prefer for NaN entries\n",
    "    state_name = str(state_name)  # Convert the state_name to a string\n",
    "    for subdivision in pycountry.subdivisions:\n",
    "        if subdivision.name.lower() == state_name.lower():\n",
    "            return pycountry.countries.get(alpha_2=subdivision.country_code).name\n",
    "    return None\n",
    "dimregion['country'] = dimregion['province_state'].apply(get_country_name)\n",
    "\n",
    "print(\"country name has been added\")\n",
    "#############################################################################\n",
    "# lastly, lets work on the dimension date table \n",
    "#first, I covert the date column to datetime format\n",
    "covid_data['date'] = pd.to_datetime(covid_data['date'])\n",
    "# now, lets get the month, year, weekend and day \n",
    "dimdate = pd.DataFrame({\n",
    "    'date': covid_data['date'],\n",
    "    'day': covid_data['date'].dt.day,\n",
    "    'month': covid_data['date'].dt.month,\n",
    "    'year': covid_data['date'].dt.year,\n",
    "    'is_weekend': covid_data['date'].dt.weekday >= 5\n",
    "})"
   ]
  },
  {
   "cell_type": "code",
   "execution_count": 6,
   "id": "479f3eea-379f-4a60-85a0-aa54c9f2cbb0",
   "metadata": {},
   "outputs": [
    {
     "data": {
      "text/plain": [
       "{'ResponseMetadata': {'RequestId': 'H8K1D6AJD5FSWSKB',\n",
       "  'HostId': 'mYcHSz3u88KSHmX0eIepKckyMIM4QBUnrMDwBvRADVKBTTnfTO+FCy/kj6G7DDsDIGCn4YIk171r1VfSnIdILAVHHacBWT9Z',\n",
       "  'HTTPStatusCode': 200,\n",
       "  'HTTPHeaders': {'x-amz-id-2': 'mYcHSz3u88KSHmX0eIepKckyMIM4QBUnrMDwBvRADVKBTTnfTO+FCy/kj6G7DDsDIGCn4YIk171r1VfSnIdILAVHHacBWT9Z',\n",
       "   'x-amz-request-id': 'H8K1D6AJD5FSWSKB',\n",
       "   'date': 'Wed, 16 Apr 2025 14:40:09 GMT',\n",
       "   'x-amz-server-side-encryption': 'AES256',\n",
       "   'etag': '\"857d92ec07d1ec323198076737b15e00\"',\n",
       "   'x-amz-checksum-crc32': 'vBS1nA==',\n",
       "   'x-amz-checksum-type': 'FULL_OBJECT',\n",
       "   'content-length': '0',\n",
       "   'server': 'AmazonS3'},\n",
       "  'RetryAttempts': 0},\n",
       " 'ETag': '\"857d92ec07d1ec323198076737b15e00\"',\n",
       " 'ChecksumCRC32': 'vBS1nA==',\n",
       " 'ChecksumType': 'FULL_OBJECT',\n",
       " 'ServerSideEncryption': 'AES256'}"
      ]
     },
     "execution_count": 6,
     "metadata": {},
     "output_type": "execute_result"
    }
   ],
   "source": [
    "bucket_name = 'covidproject-dimdata'\n",
    "s3_resource = boto3.resource('s3')\n",
    "\n",
    "# Dimregion back to S3 bucket in Output directory\n",
    "csv_buffer = StringIO()\n",
    "dimregion.to_csv(csv_buffer, index=False)\n",
    "s3_resource.Object(bucket_name, 'output/dimregion.csv').put(Body=csv_buffer.getvalue())\n",
    "\n",
    "# Dimdate back to S3 bucket in Output directory\n",
    "csv_buffer = StringIO()\n",
    "dimdate.to_csv(csv_buffer, index=False)\n",
    "s3_resource.Object(bucket_name, 'output/dimdate.csv').put(Body=csv_buffer.getvalue())\n",
    "\n",
    "# Dimregion back to S3 bucket in Output directory\n",
    "csv_buffer = StringIO()\n",
    "dimhospital.to_csv(csv_buffer, index=False)\n",
    "s3_resource.Object(bucket_name, 'output/dimhospital.csv').put(Body=csv_buffer.getvalue())\n",
    "\n",
    "# Factscovid back to S3 bucket in Output directory\n",
    "csv_buffer = StringIO()\n",
    "factscovid.to_csv(csv_buffer, index=False)\n",
    "s3_resource.Object(bucket_name, 'output/factscovid.csv').put(Body=csv_buffer.getvalue())"
   ]
  },
  {
   "cell_type": "code",
   "execution_count": null,
   "id": "5976f12a-cbd9-49ea-b9b1-449977e8259a",
   "metadata": {},
   "outputs": [],
   "source": []
  }
 ],
 "metadata": {
  "kernelspec": {
   "display_name": "Python 3 (ipykernel)",
   "language": "python",
   "name": "python3"
  },
  "language_info": {
   "codemirror_mode": {
    "name": "ipython",
    "version": 3
   },
   "file_extension": ".py",
   "mimetype": "text/x-python",
   "name": "python",
   "nbconvert_exporter": "python",
   "pygments_lexer": "ipython3",
   "version": "3.12.9"
  }
 },
 "nbformat": 4,
 "nbformat_minor": 5
}
